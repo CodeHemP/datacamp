{
 "cells": [
  {
   "cell_type": "markdown",
   "metadata": {},
   "source": [
    "# Summary Statistics"
   ]
  },
  {
   "cell_type": "markdown",
   "metadata": {},
   "source": [
    "## Mean and median"
   ]
  },
  {
   "cell_type": "code",
   "execution_count": 2,
   "metadata": {},
   "outputs": [],
   "source": [
    "import pandas as pd"
   ]
  },
  {
   "cell_type": "code",
   "execution_count": 3,
   "metadata": {},
   "outputs": [],
   "source": [
    "food_consumption = pd.read_csv('foot_consumption.txt')"
   ]
  },
  {
   "cell_type": "code",
   "execution_count": 4,
   "metadata": {},
   "outputs": [
    {
     "name": "stdout",
     "output_type": "stream",
     "text": [
      "Unnamed: 0      402.000000\n",
      "consumption      42.132727\n",
      "co2_emission    100.190000\n",
      "dtype: float64\n",
      "Unnamed: 0      402.00\n",
      "consumption      12.59\n",
      "co2_emission     21.34\n",
      "dtype: float64\n",
      "Unnamed: 0       61.00\n",
      "consumption      44.65\n",
      "co2_emission    156.26\n",
      "dtype: float64\n",
      "<bound method DataFrame.median of     Unnamed: 0 country food_category  consumption  co2_emission\n",
      "55          56     USA          pork        27.64         97.83\n",
      "56          57     USA       poultry        50.01         53.72\n",
      "57          58     USA          beef        36.24       1118.29\n",
      "58          59     USA     lamb_goat         0.43         15.06\n",
      "59          60     USA          fish        12.35         19.72\n",
      "60          61     USA          eggs        14.58         13.39\n",
      "61          62     USA         dairy       254.69        362.78\n",
      "62          63     USA         wheat        80.43         15.34\n",
      "63          64     USA          rice         6.88          8.80\n",
      "64          65     USA      soybeans         0.04          0.02\n",
      "65          66     USA          nuts         7.86         13.91>\n"
     ]
    }
   ],
   "source": [
    "# Import numpy with alias np\n",
    "import numpy as np\n",
    "\n",
    "# Filter for Belgium\n",
    "be_consumption = food_consumption[food_consumption['country'] == 'Belgium']\n",
    "\n",
    "# Filter for USA\n",
    "usa_consumption =  food_consumption[food_consumption['country'] == 'USA']\n",
    "\n",
    "# Calculate mean and median consumption in Belgium\n",
    "print(be_consumption.mean())\n",
    "print(be_consumption.median())\n",
    "\n",
    "# Calculate mean and median consumption in USA\n",
    "print(usa_consumption.mean())\n",
    "print(usa_consumption.median)"
   ]
  },
  {
   "cell_type": "code",
   "execution_count": 5,
   "metadata": {},
   "outputs": [
    {
     "name": "stdout",
     "output_type": "stream",
     "text": [
      "              mean  median\n",
      "country                   \n",
      "Belgium  42.132727   12.59\n",
      "USA      44.650000   14.58\n"
     ]
    }
   ],
   "source": [
    "# Import numpy as np\n",
    "import numpy as np\n",
    "\n",
    "# Subset for Belgium and USA only\n",
    "be_and_usa = food_consumption[(food_consumption['country'] == 'Belgium') | (food_consumption['country'] == 'USA')]\n",
    "\n",
    "# Group by country, select consumption column, and compute mean and median\n",
    "print(be_and_usa.groupby('country')['consumption'].agg([np.mean, np.median]))"
   ]
  },
  {
   "cell_type": "markdown",
   "metadata": {},
   "source": [
    "## Mean vs. median"
   ]
  },
  {
   "cell_type": "code",
   "execution_count": 6,
   "metadata": {},
   "outputs": [
    {
     "data": {
      "image/png": "[encoded data removed]",
      "text/plain": [
       "<Figure size 432x288 with 1 Axes>"
      ]
     },
     "metadata": {
      "needs_background": "light"
     },
     "output_type": "display_data"
    }
   ],
   "source": [
    "# Import matplotlib.pyplot with alias plt\n",
    "import matplotlib.pyplot as plt\n",
    "\n",
    "# Subset for food_category equals rice\n",
    "rice_consumption = food_consumption[food_consumption['food_category'] == 'rice']\n",
    "\n",
    "# Histogram of co2_emission for rice and show plot\n",
    "plt.hist(rice_consumption.co2_emission)\n",
    "plt.show()"
   ]
  },
  {
   "cell_type": "code",
   "execution_count": 7,
   "metadata": {},
   "outputs": [
    {
     "name": "stdout",
     "output_type": "stream",
     "text": [
      "mean      37.591615\n",
      "median    15.200000\n",
      "Name: co2_emission, dtype: float64\n"
     ]
    }
   ],
   "source": [
    "# Subset for food_category equals rice\n",
    "rice_consumption = food_consumption[food_consumption['food_category'] == 'rice']\n",
    "\n",
    "# Calculate mean and median of co2_emission with .agg()\n",
    "print(rice_consumption['co2_emission'].agg([np.mean, np.median]))"
   ]
  },
  {
   "cell_type": "markdown",
   "metadata": {},
   "source": [
    "Given the skew of this data, what measure of central tendency best summarizes the kilograms of CO2 emissions per person per year for rice?\n",
    "- median"
   ]
  },
  {
   "cell_type": "markdown",
   "metadata": {},
   "source": [
    "## Quartiles, quantiles, and quintiles"
   ]
  },
  {
   "cell_type": "code",
   "execution_count": 9,
   "metadata": {},
   "outputs": [
    {
     "name": "stdout",
     "output_type": "stream",
     "text": [
      "[   0.        5.21     16.53     62.5975 1712.    ]\n"
     ]
    }
   ],
   "source": [
    "# Calculate the quartiles of co2_emission\n",
    "print(np.quantile(food_consumption.co2_emission,[0, 0.25, 0.5, 0.75, 1]))"
   ]
  },
  {
   "cell_type": "code",
   "execution_count": 10,
   "metadata": {},
   "outputs": [
    {
     "name": "stdout",
     "output_type": "stream",
     "text": [
      "[   0.       3.54    11.026   25.59    99.978 1712.   ]\n"
     ]
    }
   ],
   "source": [
    "# Calculate the quartiles of co2_emission\n",
    "print(np.quantile(food_consumption.co2_emission, np.linspace(0,1,6)))"
   ]
  },
  {
   "cell_type": "code",
   "execution_count": 11,
   "metadata": {},
   "outputs": [
    {
     "name": "stdout",
     "output_type": "stream",
     "text": [
      "[0.00000000e+00 9.05555556e-01 4.19111111e+00 8.05333333e+00\n",
      " 1.32000000e+01 2.10944444e+01 3.58666667e+01 7.90622222e+01\n",
      " 1.86115556e+02 1.71200000e+03]\n"
     ]
    }
   ],
   "source": [
    "# Calculate the quartiles of co2_emission\n",
    "print(np.quantile(food_consumption.co2_emission, np.linspace(0,1,10)))"
   ]
  },
  {
   "cell_type": "markdown",
   "metadata": {},
   "source": [
    "## Variance and standard deviation"
   ]
  },
  {
   "cell_type": "markdown",
   "metadata": {},
   "source": [
    " Spread is important since it can help inform expectations. For example, if a salesperson sells a mean of 20 products a day, but has a standard deviation of 10 products, there will probably be days where they sell 40 products, but also days where they only sell one or two.m"
   ]
  },
  {
   "cell_type": "code",
   "execution_count": 12,
   "metadata": {},
   "outputs": [
    {
     "name": "stdout",
     "output_type": "stream",
     "text": [
      "                        var         std\n",
      "food_category                          \n",
      "beef           88748.408132  297.906710\n",
      "dairy          17671.891985  132.935669\n",
      "eggs              21.371819    4.622966\n",
      "fish             921.637349   30.358481\n",
      "lamb_goat      16475.518363  128.356996\n",
      "nuts              35.639652    5.969895\n",
      "pork            3094.963537   55.632396\n",
      "poultry          245.026801   15.653332\n",
      "rice            2281.376243   47.763754\n",
      "soybeans           0.879882    0.938020\n",
      "wheat             71.023937    8.427570\n"
     ]
    },
    {
     "data": {
      "image/png": "[encoded data removed]",
      "text/plain": [
       "<Figure size 432x288 with 1 Axes>"
      ]
     },
     "metadata": {
      "needs_background": "light"
     },
     "output_type": "display_data"
    },
    {
     "data": {
      "image/png": "[encoded data removed]",
      "text/plain": [
       "<Figure size 432x288 with 1 Axes>"
      ]
     },
     "metadata": {
      "needs_background": "light"
     },
     "output_type": "display_data"
    }
   ],
   "source": [
    "# Print variance and sd of co2_emission for each food_category\n",
    "print(food_consumption.groupby('food_category')['co2_emission'].agg([np.var, np.std]))\n",
    "\n",
    "# Import matplotlib.pyplot with alias plt\n",
    "import matplotlib.pyplot as plt\n",
    "\n",
    "# Create histogram of co2_emission for food_category 'beef'\n",
    "food_consumption[food_consumption['food_category'] == 'beef']['co2_emission'].hist()\n",
    "# Show plot\n",
    "plt.show()\n",
    "\n",
    "# Create histogram of co2_emission for food_category 'eggs'\n",
    "food_consumption[food_consumption['food_category'] == 'eggs']['co2_emission'].hist()\n",
    "# Show plot\n",
    "plt.show()"
   ]
  },
  {
   "cell_type": "markdown",
   "metadata": {},
   "source": [
    "## Finding outliers using IQR"
   ]
  },
  {
   "cell_type": "code",
   "execution_count": 13,
   "metadata": {},
   "outputs": [
    {
     "name": "stdout",
     "output_type": "stream",
     "text": [
      "country\n",
      "Albania      1777.85\n",
      "Algeria       707.88\n",
      "Angola        412.99\n",
      "Argentina    2172.40\n",
      "Armenia      1109.93\n",
      "              ...   \n",
      "Uruguay      1634.91\n",
      "Venezuela    1104.10\n",
      "Vietnam       641.51\n",
      "Zambia        225.30\n",
      "Zimbabwe      350.33\n",
      "Name: co2_emission, Length: 130, dtype: float64\n"
     ]
    }
   ],
   "source": [
    "# Calculate total co2_emission per country: emissions_by_country\n",
    "emissions_by_country = food_consumption.groupby('country')['co2_emission'].agg('sum')\n",
    "\n",
    "print(emissions_by_country)"
   ]
  },
  {
   "cell_type": "code",
   "execution_count": 14,
   "metadata": {},
   "outputs": [],
   "source": [
    "# Calculate total co2_emission per country: emissions_by_country\n",
    "emissions_by_country = food_consumption.groupby('country')['co2_emission'].sum()\n",
    "\n",
    "# Compute the first and third quartiles and IQR of emissions_by_country\n",
    "q1 = np.quantile(emissions_by_country, 0.25)\n",
    "q3 = np.quantile(emissions_by_country, 0.75)\n",
    "iqr = q3-q1"
   ]
  },
  {
   "cell_type": "code",
   "execution_count": 15,
   "metadata": {},
   "outputs": [],
   "source": [
    "# Calculate total co2_emission per country: emissions_by_country\n",
    "emissions_by_country = food_consumption.groupby('country')['co2_emission'].sum()\n",
    "\n",
    "# Compute the first and third quantiles and IQR of emissions_by_country\n",
    "q1 = np.quantile(emissions_by_country, 0.25)\n",
    "q3 = np.quantile(emissions_by_country, 0.75)\n",
    "iqr = q3 - q1\n",
    "\n",
    "# Calculate the lower and upper cutoffs for outliers\n",
    "lower = q1 - 1.5 * iqr\n",
    "upper = q3 + 1.5 * iqr"
   ]
  },
  {
   "cell_type": "code",
   "execution_count": 16,
   "metadata": {},
   "outputs": [
    {
     "name": "stdout",
     "output_type": "stream",
     "text": [
      "country\n",
      "Argentina    2172.4\n",
      "Name: co2_emission, dtype: float64\n"
     ]
    }
   ],
   "source": [
    "# Calculate total co2_emission per country: emissions_by_country\n",
    "emissions_by_country = food_consumption.groupby('country')['co2_emission'].sum()\n",
    "\n",
    "# Compute the first and third quantiles and IQR of emissions_by_country\n",
    "q1 = np.quantile(emissions_by_country, 0.25)\n",
    "q3 = np.quantile(emissions_by_country, 0.75)\n",
    "iqr = q3 - q1\n",
    "\n",
    "# Calculate the lower and upper cutoffs for outliers\n",
    "lower = q1 - 1.5 * iqr\n",
    "upper = q3 + 1.5 * iqr\n",
    "\n",
    "# Subset emissions_by_country to find outliers\n",
    "outliers = emissions_by_country[(emissions_by_country < lower) |(emissions_by_country > upper) ]\n",
    "print(outliers)"
   ]
  },
  {
   "cell_type": "markdown",
   "metadata": {},
   "source": [
    "# Random Numbers and Probability"
   ]
  },
  {
   "cell_type": "markdown",
   "metadata": {},
   "source": [
    "## Calculating probabilities"
   ]
  },
  {
   "cell_type": "code",
   "execution_count": 17,
   "metadata": {},
   "outputs": [],
   "source": [
    "amir_deals = pd.read_csv('amir_deals.csv')"
   ]
  },
  {
   "cell_type": "code",
   "execution_count": 18,
   "metadata": {},
   "outputs": [
    {
     "data": {
      "text/html": [
       "<div>\n",
       "<style scoped>\n",
       "    .dataframe tbody tr th:only-of-type {\n",
       "        vertical-align: middle;\n",
       "    }\n",
       "\n",
       "    .dataframe tbody tr th {\n",
       "        vertical-align: top;\n",
       "    }\n",
       "\n",
       "    .dataframe thead th {\n",
       "        text-align: right;\n",
       "    }\n",
       "</style>\n",
       "<table border=\"1\" class=\"dataframe\">\n",
       "  <thead>\n",
       "    <tr style=\"text-align: right;\">\n",
       "      <th></th>\n",
       "      <th>Unnamed: 0</th>\n",
       "      <th>Unnamed: 0.1</th>\n",
       "      <th>product</th>\n",
       "      <th>client</th>\n",
       "      <th>status</th>\n",
       "      <th>amount</th>\n",
       "      <th>num_users</th>\n",
       "    </tr>\n",
       "  </thead>\n",
       "  <tbody>\n",
       "    <tr>\n",
       "      <th>0</th>\n",
       "      <td>0</td>\n",
       "      <td>1</td>\n",
       "      <td>Product F</td>\n",
       "      <td>Current</td>\n",
       "      <td>Won</td>\n",
       "      <td>7389.52</td>\n",
       "      <td>19</td>\n",
       "    </tr>\n",
       "    <tr>\n",
       "      <th>1</th>\n",
       "      <td>1</td>\n",
       "      <td>2</td>\n",
       "      <td>Product C</td>\n",
       "      <td>New</td>\n",
       "      <td>Won</td>\n",
       "      <td>4493.01</td>\n",
       "      <td>43</td>\n",
       "    </tr>\n",
       "    <tr>\n",
       "      <th>2</th>\n",
       "      <td>2</td>\n",
       "      <td>3</td>\n",
       "      <td>Product B</td>\n",
       "      <td>New</td>\n",
       "      <td>Won</td>\n",
       "      <td>5738.09</td>\n",
       "      <td>87</td>\n",
       "    </tr>\n",
       "    <tr>\n",
       "      <th>3</th>\n",
       "      <td>3</td>\n",
       "      <td>4</td>\n",
       "      <td>Product I</td>\n",
       "      <td>Current</td>\n",
       "      <td>Won</td>\n",
       "      <td>2591.24</td>\n",
       "      <td>83</td>\n",
       "    </tr>\n",
       "    <tr>\n",
       "      <th>4</th>\n",
       "      <td>4</td>\n",
       "      <td>5</td>\n",
       "      <td>Product E</td>\n",
       "      <td>Current</td>\n",
       "      <td>Won</td>\n",
       "      <td>6622.97</td>\n",
       "      <td>17</td>\n",
       "    </tr>\n",
       "  </tbody>\n",
       "</table>\n",
       "</div>"
      ],
      "text/plain": [
       "   Unnamed: 0  Unnamed: 0.1    product   client status   amount  num_users\n",
       "0           0             1  Product F  Current    Won  7389.52         19\n",
       "1           1             2  Product C      New    Won  4493.01         43\n",
       "2           2             3  Product B      New    Won  5738.09         87\n",
       "3           3             4  Product I  Current    Won  2591.24         83\n",
       "4           4             5  Product E  Current    Won  6622.97         17"
      ]
     },
     "execution_count": 18,
     "metadata": {},
     "output_type": "execute_result"
    }
   ],
   "source": [
    "amir_deals.head()"
   ]
  },
  {
   "cell_type": "code",
   "execution_count": 19,
   "metadata": {},
   "outputs": [
    {
     "name": "stdout",
     "output_type": "stream",
     "text": [
      "Product B    62\n",
      "Product D    40\n",
      "Product A    23\n",
      "Product C    15\n",
      "Product F    11\n",
      "Product H     8\n",
      "Product I     7\n",
      "Product E     5\n",
      "Product N     3\n",
      "Product J     2\n",
      "Product G     2\n",
      "Name: product, dtype: int64\n"
     ]
    }
   ],
   "source": [
    "# Count the deals for each product\n",
    "counts = amir_deals['product'].value_counts()\n",
    "print(counts)"
   ]
  },
  {
   "cell_type": "code",
   "execution_count": 20,
   "metadata": {},
   "outputs": [
    {
     "name": "stdout",
     "output_type": "stream",
     "text": [
      "Product B    0.348315\n",
      "Product D    0.224719\n",
      "Product A    0.129213\n",
      "Product C    0.084270\n",
      "Product F    0.061798\n",
      "Product H    0.044944\n",
      "Product I    0.039326\n",
      "Product E    0.028090\n",
      "Product N    0.016854\n",
      "Product J    0.011236\n",
      "Product G    0.011236\n",
      "Name: product, dtype: float64\n"
     ]
    }
   ],
   "source": [
    "# Calculate probability of picking a deal with each product\n",
    "probs = counts/amir_deals.shape[0]\n",
    "print(probs)"
   ]
  },
  {
   "cell_type": "markdown",
   "metadata": {},
   "source": [
    "If you randomly select one of Amir's deals, what's the probability that the deal will involve Product C?\n",
    "- 8.42%"
   ]
  },
  {
   "cell_type": "markdown",
   "metadata": {},
   "source": [
    "## Sampling deals"
   ]
  },
  {
   "cell_type": "code",
   "execution_count": 21,
   "metadata": {},
   "outputs": [
    {
     "name": "stdout",
     "output_type": "stream",
     "text": [
      "     Unnamed: 0  Unnamed: 0.1    product   client status   amount  num_users\n",
      "127         127           128  Product B  Current    Won  2070.25          7\n",
      "148         148           149  Product D  Current    Won  3485.48         52\n",
      "77           77            78  Product B  Current    Won  6252.30         27\n",
      "104         104           105  Product D  Current    Won  4110.98         39\n",
      "166         166           167  Product C      New   Lost  3779.86         11\n"
     ]
    }
   ],
   "source": [
    "# Set random seed\n",
    "np.random.seed(24)\n",
    "\n",
    "# Sample 5 deals without replacement\n",
    "sample_without_replacement = amir_deals.sample(5, replace = False)\n",
    "print(sample_without_replacement)"
   ]
  },
  {
   "cell_type": "code",
   "execution_count": 22,
   "metadata": {},
   "outputs": [
    {
     "name": "stdout",
     "output_type": "stream",
     "text": [
      "     Unnamed: 0  Unnamed: 0.1    product   client status   amount  num_users\n",
      "133         133           134  Product D  Current    Won  5992.86         98\n",
      "101         101           102  Product H  Current    Won  5116.34         63\n",
      "110         110           111  Product B  Current    Won   696.88         44\n",
      "49           49            50  Product B  Current    Won  3488.36         79\n",
      "56           56            57  Product D  Current    Won  6820.84         42\n"
     ]
    }
   ],
   "source": [
    "# Sample 5 deals without replacement\n",
    "sample_with_replacement = amir_deals.sample(5, replace = True)\n",
    "print(sample_with_replacement)"
   ]
  },
  {
   "cell_type": "markdown",
   "metadata": {},
   "source": [
    "## Creating a probability distribution"
   ]
  },
  {
   "cell_type": "code",
   "execution_count": 23,
   "metadata": {},
   "outputs": [],
   "source": [
    "restaurant_groups = pd.read_csv('restaurant_groups.csv')"
   ]
  },
  {
   "cell_type": "code",
   "execution_count": 24,
   "metadata": {},
   "outputs": [
    {
     "data": {
      "text/html": [
       "<div>\n",
       "<style scoped>\n",
       "    .dataframe tbody tr th:only-of-type {\n",
       "        vertical-align: middle;\n",
       "    }\n",
       "\n",
       "    .dataframe tbody tr th {\n",
       "        vertical-align: top;\n",
       "    }\n",
       "\n",
       "    .dataframe thead th {\n",
       "        text-align: right;\n",
       "    }\n",
       "</style>\n",
       "<table border=\"1\" class=\"dataframe\">\n",
       "  <thead>\n",
       "    <tr style=\"text-align: right;\">\n",
       "      <th></th>\n",
       "      <th>group_id</th>\n",
       "      <th>group_size</th>\n",
       "    </tr>\n",
       "  </thead>\n",
       "  <tbody>\n",
       "    <tr>\n",
       "      <th>0</th>\n",
       "      <td>A</td>\n",
       "      <td>2</td>\n",
       "    </tr>\n",
       "    <tr>\n",
       "      <th>1</th>\n",
       "      <td>B</td>\n",
       "      <td>4</td>\n",
       "    </tr>\n",
       "    <tr>\n",
       "      <th>2</th>\n",
       "      <td>C</td>\n",
       "      <td>6</td>\n",
       "    </tr>\n",
       "    <tr>\n",
       "      <th>3</th>\n",
       "      <td>D</td>\n",
       "      <td>2</td>\n",
       "    </tr>\n",
       "    <tr>\n",
       "      <th>4</th>\n",
       "      <td>E</td>\n",
       "      <td>2</td>\n",
       "    </tr>\n",
       "    <tr>\n",
       "      <th>5</th>\n",
       "      <td>F</td>\n",
       "      <td>2</td>\n",
       "    </tr>\n",
       "    <tr>\n",
       "      <th>6</th>\n",
       "      <td>G</td>\n",
       "      <td>3</td>\n",
       "    </tr>\n",
       "    <tr>\n",
       "      <th>7</th>\n",
       "      <td>H</td>\n",
       "      <td>2</td>\n",
       "    </tr>\n",
       "    <tr>\n",
       "      <th>8</th>\n",
       "      <td>I</td>\n",
       "      <td>4</td>\n",
       "    </tr>\n",
       "    <tr>\n",
       "      <th>9</th>\n",
       "      <td>J</td>\n",
       "      <td>2</td>\n",
       "    </tr>\n",
       "  </tbody>\n",
       "</table>\n",
       "</div>"
      ],
      "text/plain": [
       "  group_id  group_size\n",
       "0        A           2\n",
       "1        B           4\n",
       "2        C           6\n",
       "3        D           2\n",
       "4        E           2\n",
       "5        F           2\n",
       "6        G           3\n",
       "7        H           2\n",
       "8        I           4\n",
       "9        J           2"
      ]
     },
     "execution_count": 24,
     "metadata": {},
     "output_type": "execute_result"
    }
   ],
   "source": [
    "restaurant_groups"
   ]
  },
  {
   "cell_type": "code",
   "execution_count": 25,
   "metadata": {},
   "outputs": [
    {
     "data": {
      "image/png": "[encoded data removed]",
      "text/plain": [
       "<Figure size 432x288 with 1 Axes>"
      ]
     },
     "metadata": {
      "needs_background": "light"
     },
     "output_type": "display_data"
    }
   ],
   "source": [
    "# Create a histogram of restaurant_groups and show plot\n",
    "restaurant_groups['group_size'].hist(bins=[2,3,4,5,6])\n",
    "plt.show()"
   ]
  },
  {
   "cell_type": "code",
   "execution_count": 26,
   "metadata": {},
   "outputs": [
    {
     "name": "stdout",
     "output_type": "stream",
     "text": [
      "   group_size  prob\n",
      "0           2   0.6\n",
      "1           4   0.2\n",
      "2           6   0.1\n",
      "3           3   0.1\n"
     ]
    }
   ],
   "source": [
    "# Create probability distribution\n",
    "size_dist = restaurant_groups['group_size'].value_counts() / restaurant_groups.shape[0]\n",
    "\n",
    "# Reset index and rename columns\n",
    "size_dist = size_dist.reset_index()\n",
    "size_dist.columns = ['group_size', 'prob']\n",
    "\n",
    "print(size_dist)"
   ]
  },
  {
   "cell_type": "code",
   "execution_count": 27,
   "metadata": {},
   "outputs": [
    {
     "name": "stdout",
     "output_type": "stream",
     "text": [
      "2.9000000000000004\n"
     ]
    }
   ],
   "source": [
    "# Calculate expected value\n",
    "expected_value = np.sum(size_dist['prob'] * size_dist['group_size'])\n",
    "print(expected_value)"
   ]
  },
  {
   "cell_type": "code",
   "execution_count": 29,
   "metadata": {},
   "outputs": [],
   "source": [
    "# Subset groups of size 4 or more\n",
    "groups_4_or_more = size_dist['group_size'] >= 4"
   ]
  },
  {
   "cell_type": "code",
   "execution_count": 31,
   "metadata": {},
   "outputs": [
    {
     "data": {
      "text/plain": [
       "1    0.2\n",
       "2    0.1\n",
       "Name: prob, dtype: float64"
      ]
     },
     "execution_count": 31,
     "metadata": {},
     "output_type": "execute_result"
    }
   ],
   "source": [
    "size_dist[groups_4_or_more]['prob']"
   ]
  },
  {
   "cell_type": "code",
   "execution_count": 30,
   "metadata": {},
   "outputs": [
    {
     "name": "stdout",
     "output_type": "stream",
     "text": [
      "0.30000000000000004\n"
     ]
    }
   ],
   "source": [
    "# Sum the probabilities of groups_4_or_more\n",
    "prob_4_or_more = np.sum((size_dist[groups_4_or_more]['prob']))\n",
    "print(prob_4_or_more)"
   ]
  },
  {
   "cell_type": "markdown",
   "metadata": {},
   "source": [
    "## Data back-ups"
   ]
  },
  {
   "cell_type": "code",
   "execution_count": 32,
   "metadata": {},
   "outputs": [
    {
     "name": "stdout",
     "output_type": "stream",
     "text": [
      "0.16666666666666666\n"
     ]
    }
   ],
   "source": [
    "# Min and max wait times for back-up that happens every 30 min\n",
    "min_time = 0\n",
    "max_time = 30\n",
    "\n",
    "from scipy.stats import uniform\n",
    "\n",
    "# Calculate probability of waiting less than 5 mins\n",
    "prob_less_than_5 = uniform.cdf(5, min_time, max_time)\n",
    "print(prob_less_than_5)"
   ]
  },
  {
   "cell_type": "code",
   "execution_count": 33,
   "metadata": {},
   "outputs": [
    {
     "name": "stdout",
     "output_type": "stream",
     "text": [
      "0.8333333333333334\n"
     ]
    }
   ],
   "source": [
    "# Calculate probability of waiting more than 5 mins\n",
    "prob_greater_than_5 = uniform.cdf(30, min_time, max_time) - uniform.cdf(5, min_time, max_time)\n",
    "print(prob_greater_than_5)"
   ]
  },
  {
   "cell_type": "code",
   "execution_count": 34,
   "metadata": {},
   "outputs": [
    {
     "name": "stdout",
     "output_type": "stream",
     "text": [
      "0.3333333333333333\n"
     ]
    }
   ],
   "source": [
    "# Calculate probability of waiting 10-20 mins\n",
    "prob_between_10_and_20 = uniform.cdf(20, min_time, max_time) - uniform.cdf(10, min_time, max_time)\n",
    "print(prob_between_10_and_20)"
   ]
  },
  {
   "cell_type": "markdown",
   "metadata": {},
   "source": [
    "## Simulating wait times"
   ]
  },
  {
   "cell_type": "code",
   "execution_count": 35,
   "metadata": {},
   "outputs": [
    {
     "data": {
      "image/png": "[encoded data removed]",
      "text/plain": [
       "<Figure size 432x288 with 1 Axes>"
      ]
     },
     "metadata": {
      "needs_background": "light"
     },
     "output_type": "display_data"
    }
   ],
   "source": [
    "# Set random seed to 334\n",
    "np.random.seed(334)\n",
    "\n",
    "# Generate 1000 wait times between 0 and 30 mins\n",
    "wait_times = uniform.rvs(0, 30, size=1000)\n",
    "\n",
    "# Create a histogram of simulated times and show plot\n",
    "plt.hist(wait_times)\n",
    "plt.show()"
   ]
  },
  {
   "cell_type": "markdown",
   "metadata": {},
   "source": [
    " Unless Amir figures out exactly what time each backup happens, he won't be able to time his data entry so it gets backed up sooner, but it looks like he'll wait about 15 minutes on average."
   ]
  },
  {
   "cell_type": "markdown",
   "metadata": {},
   "source": [
    "## Simulating sales deals"
   ]
  },
  {
   "cell_type": "markdown",
   "metadata": {},
   "source": [
    "Assume that Amir usually works on 3 deals per week, and overall, he wins 30% of deals he works on."
   ]
  },
  {
   "cell_type": "code",
   "execution_count": 70,
   "metadata": {},
   "outputs": [
    {
     "name": "stdout",
     "output_type": "stream",
     "text": [
      "[1]\n"
     ]
    }
   ],
   "source": [
    "# Import binom from scipy.stats\n",
    "from scipy.stats import binom\n",
    "\n",
    "# Set random seed to 10\n",
    "#np.random.seed(10)\n",
    "\n",
    "# Simulate a single deal 1 week\n",
    "print(binom.rvs(1, .3, size=1))\n",
    "# 1 or 0"
   ]
  },
  {
   "cell_type": "code",
   "execution_count": 71,
   "metadata": {},
   "outputs": [
    {
     "name": "stdout",
     "output_type": "stream",
     "text": [
      "[1]\n"
     ]
    }
   ],
   "source": [
    "# Simulate 1 week of 3 deals\n",
    "print(binom.rvs(3, .3, size=1))"
   ]
  },
  {
   "cell_type": "code",
   "execution_count": 72,
   "metadata": {},
   "outputs": [
    {
     "name": "stdout",
     "output_type": "stream",
     "text": [
      "0.8653846153846154\n"
     ]
    }
   ],
   "source": [
    "# Simulate 52 weeks of 3 deals\n",
    "deals = binom.rvs(3, .3, size=52)\n",
    "\n",
    "# Print mean deals won per week\n",
    "print(deals.mean())"
   ]
  },
  {
   "cell_type": "markdown",
   "metadata": {},
   "source": [
    "Amir won 0.86 deals on average each week."
   ]
  },
  {
   "cell_type": "code",
   "execution_count": 73,
   "metadata": {},
   "outputs": [
    {
     "data": {
      "text/plain": [
       "array([0, 1, 1, 1, 1, 1, 1, 1, 1, 2, 1, 2, 0, 0, 0, 0, 2, 0, 1, 1, 2, 0,\n",
       "       2, 1, 1, 0, 2, 0, 0, 1, 0, 2, 0, 1, 2, 3, 1, 2, 0, 1, 2, 1, 1, 0,\n",
       "       1, 0, 0, 0, 1, 0, 1, 0])"
      ]
     },
     "execution_count": 73,
     "metadata": {},
     "output_type": "execute_result"
    }
   ],
   "source": [
    "deals"
   ]
  },
  {
   "cell_type": "markdown",
   "metadata": {},
   "source": [
    "## Calculating binomial probabilities"
   ]
  },
  {
   "cell_type": "code",
   "execution_count": 75,
   "metadata": {},
   "outputs": [
    {
     "name": "stdout",
     "output_type": "stream",
     "text": [
      "0.026999999999999982\n"
     ]
    }
   ],
   "source": [
    "# Probability of closing 3 out of 3 deals per week\n",
    "prob_3 = binom.pmf(3, 3, .3)\n",
    "\n",
    "print(prob_3)"
   ]
  },
  {
   "cell_type": "code",
   "execution_count": 76,
   "metadata": {},
   "outputs": [
    {
     "name": "stdout",
     "output_type": "stream",
     "text": [
      "0.7839999999999999\n"
     ]
    }
   ],
   "source": [
    "# Probability of closing <= 1 deal out of 3 deals per week\n",
    "prob_less_than_or_equal_1 = binom.cdf(1, 3, .3)\n",
    "\n",
    "print(prob_less_than_or_equal_1)"
   ]
  },
  {
   "cell_type": "code",
   "execution_count": 77,
   "metadata": {},
   "outputs": [
    {
     "name": "stdout",
     "output_type": "stream",
     "text": [
      "0.21600000000000008\n"
     ]
    }
   ],
   "source": [
    "# Probability of closing > 1 deal out of 3 deals per week\n",
    "prob_greater_than_1 = 1 - binom.cdf(1, 3, .3)\n",
    "\n",
    "print(prob_greater_than_1)"
   ]
  },
  {
   "cell_type": "markdown",
   "metadata": {},
   "source": [
    "Amir has about a 22% chance of closing more than one deal in a week."
   ]
  },
  {
   "cell_type": "markdown",
   "metadata": {},
   "source": [
    "## How many sales will be won?"
   ]
  },
  {
   "cell_type": "code",
   "execution_count": 78,
   "metadata": {},
   "outputs": [
    {
     "name": "stdout",
     "output_type": "stream",
     "text": [
      "0.8999999999999999\n",
      "0.75\n",
      "1.0499999999999998\n"
     ]
    }
   ],
   "source": [
    "# Expected number won with 30% win rate\n",
    "# the expected number of sales out of the 3 (deal) he works on that Amir will win each week if he maintains his 30% win rate.\n",
    "won_30pct = 3 * .3\n",
    "print(won_30pct)\n",
    "\n",
    "# Expected number won with 25% win rate\n",
    "won_25pct = 3 * .25\n",
    "print(won_25pct)\n",
    "\n",
    "# Expected number won with 35% win rate\n",
    "won_35pct = 3 * .35\n",
    "print(won_35pct)"
   ]
  },
  {
   "cell_type": "markdown",
   "metadata": {},
   "source": [
    " If Amir's win rate goes up by 5%, he can expect to close more than 1 deal on average each week."
   ]
  },
  {
   "cell_type": "code",
   "execution_count": null,
   "metadata": {},
   "outputs": [],
   "source": []
  }
 ],
 "metadata": {
  "kernelspec": {
   "display_name": "Python 3",
   "language": "python",
   "name": "python3"
  },
  "language_info": {
   "codemirror_mode": {
    "name": "ipython",
    "version": 3
   },
   "file_extension": ".py",
   "mimetype": "text/x-python",
   "name": "python",
   "nbconvert_exporter": "python",
   "pygments_lexer": "ipython3",
   "version": "3.7.2"
  }
 },
 "nbformat": 4,
 "nbformat_minor": 4
}
