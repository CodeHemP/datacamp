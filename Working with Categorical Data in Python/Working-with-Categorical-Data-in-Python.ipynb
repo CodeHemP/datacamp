{
 "cells": [
  {
   "cell_type": "markdown",
   "id": "840e3099-8827-49b0-84d9-9fc1e41133c2",
   "metadata": {},
   "source": [
    "# Working with Categorical Data in Python"
   ]
  },
  {
   "cell_type": "markdown",
   "id": "945587d3-fce5-4d41-9fd1-95e15ec3a67f",
   "metadata": {},
   "source": [
    "## Introduction to Categorical Data"
   ]
  },
  {
   "cell_type": "code",
   "execution_count": 2,
   "id": "b748e616-7a42-433d-acee-f1dfbb28d2d0",
   "metadata": {},
   "outputs": [],
   "source": [
    "import pandas as pd"
   ]
  },
  {
   "cell_type": "code",
   "execution_count": 3,
   "id": "8f86da6d-d3da-44cd-b24f-4a7afbdf75a6",
   "metadata": {},
   "outputs": [],
   "source": [
    "adult = pd.read_csv('adult.csv')"
   ]
  },
  {
   "cell_type": "code",
   "execution_count": 4,
   "id": "34105c0c-2774-4c18-b587-7f7d67fb10e6",
   "metadata": {},
   "outputs": [
    {
     "data": {
      "text/html": [
       "<div>\n",
       "<style scoped>\n",
       "    .dataframe tbody tr th:only-of-type {\n",
       "        vertical-align: middle;\n",
       "    }\n",
       "\n",
       "    .dataframe tbody tr th {\n",
       "        vertical-align: top;\n",
       "    }\n",
       "\n",
       "    .dataframe thead th {\n",
       "        text-align: right;\n",
       "    }\n",
       "</style>\n",
       "<table border=\"1\" class=\"dataframe\">\n",
       "  <thead>\n",
       "    <tr style=\"text-align: right;\">\n",
       "      <th></th>\n",
       "      <th>Age</th>\n",
       "      <th>Workclass</th>\n",
       "      <th>fnlgwt</th>\n",
       "      <th>Education</th>\n",
       "      <th>Education Num</th>\n",
       "      <th>Marital Status</th>\n",
       "      <th>Occupation</th>\n",
       "      <th>Relationship</th>\n",
       "      <th>Race</th>\n",
       "      <th>Sex</th>\n",
       "      <th>Capital Gain</th>\n",
       "      <th>Capital Loss</th>\n",
       "      <th>Hours/Week</th>\n",
       "      <th>Country</th>\n",
       "      <th>Above/Below 50k</th>\n",
       "    </tr>\n",
       "  </thead>\n",
       "  <tbody>\n",
       "    <tr>\n",
       "      <th>0</th>\n",
       "      <td>39</td>\n",
       "      <td>State-gov</td>\n",
       "      <td>77516</td>\n",
       "      <td>Bachelors</td>\n",
       "      <td>13</td>\n",
       "      <td>Never-married</td>\n",
       "      <td>Adm-clerical</td>\n",
       "      <td>Not-in-family</td>\n",
       "      <td>White</td>\n",
       "      <td>Male</td>\n",
       "      <td>2174</td>\n",
       "      <td>0</td>\n",
       "      <td>40</td>\n",
       "      <td>United-States</td>\n",
       "      <td>&lt;=50K</td>\n",
       "    </tr>\n",
       "    <tr>\n",
       "      <th>1</th>\n",
       "      <td>50</td>\n",
       "      <td>Self-emp-not-inc</td>\n",
       "      <td>83311</td>\n",
       "      <td>Bachelors</td>\n",
       "      <td>13</td>\n",
       "      <td>Married-civ-spouse</td>\n",
       "      <td>Exec-managerial</td>\n",
       "      <td>Husband</td>\n",
       "      <td>White</td>\n",
       "      <td>Male</td>\n",
       "      <td>0</td>\n",
       "      <td>0</td>\n",
       "      <td>13</td>\n",
       "      <td>United-States</td>\n",
       "      <td>&lt;=50K</td>\n",
       "    </tr>\n",
       "    <tr>\n",
       "      <th>2</th>\n",
       "      <td>38</td>\n",
       "      <td>Private</td>\n",
       "      <td>215646</td>\n",
       "      <td>HS-grad</td>\n",
       "      <td>9</td>\n",
       "      <td>Divorced</td>\n",
       "      <td>Handlers-cleaners</td>\n",
       "      <td>Not-in-family</td>\n",
       "      <td>White</td>\n",
       "      <td>Male</td>\n",
       "      <td>0</td>\n",
       "      <td>0</td>\n",
       "      <td>40</td>\n",
       "      <td>United-States</td>\n",
       "      <td>&lt;=50K</td>\n",
       "    </tr>\n",
       "    <tr>\n",
       "      <th>3</th>\n",
       "      <td>53</td>\n",
       "      <td>Private</td>\n",
       "      <td>234721</td>\n",
       "      <td>11th</td>\n",
       "      <td>7</td>\n",
       "      <td>Married-civ-spouse</td>\n",
       "      <td>Handlers-cleaners</td>\n",
       "      <td>Husband</td>\n",
       "      <td>Black</td>\n",
       "      <td>Male</td>\n",
       "      <td>0</td>\n",
       "      <td>0</td>\n",
       "      <td>40</td>\n",
       "      <td>United-States</td>\n",
       "      <td>&lt;=50K</td>\n",
       "    </tr>\n",
       "    <tr>\n",
       "      <th>4</th>\n",
       "      <td>28</td>\n",
       "      <td>Private</td>\n",
       "      <td>338409</td>\n",
       "      <td>Bachelors</td>\n",
       "      <td>13</td>\n",
       "      <td>Married-civ-spouse</td>\n",
       "      <td>Prof-specialty</td>\n",
       "      <td>Wife</td>\n",
       "      <td>Black</td>\n",
       "      <td>Female</td>\n",
       "      <td>0</td>\n",
       "      <td>0</td>\n",
       "      <td>40</td>\n",
       "      <td>Cuba</td>\n",
       "      <td>&lt;=50K</td>\n",
       "    </tr>\n",
       "  </tbody>\n",
       "</table>\n",
       "</div>"
      ],
      "text/plain": [
       "   Age          Workclass  fnlgwt   Education  Education Num  \\\n",
       "0   39          State-gov   77516   Bachelors             13   \n",
       "1   50   Self-emp-not-inc   83311   Bachelors             13   \n",
       "2   38            Private  215646     HS-grad              9   \n",
       "3   53            Private  234721        11th              7   \n",
       "4   28            Private  338409   Bachelors             13   \n",
       "\n",
       "        Marital Status          Occupation    Relationship    Race      Sex  \\\n",
       "0        Never-married        Adm-clerical   Not-in-family   White     Male   \n",
       "1   Married-civ-spouse     Exec-managerial         Husband   White     Male   \n",
       "2             Divorced   Handlers-cleaners   Not-in-family   White     Male   \n",
       "3   Married-civ-spouse   Handlers-cleaners         Husband   Black     Male   \n",
       "4   Married-civ-spouse      Prof-specialty            Wife   Black   Female   \n",
       "\n",
       "   Capital Gain  Capital Loss  Hours/Week         Country Above/Below 50k  \n",
       "0          2174             0          40   United-States           <=50K  \n",
       "1             0             0          13   United-States           <=50K  \n",
       "2             0             0          40   United-States           <=50K  \n",
       "3             0             0          40   United-States           <=50K  \n",
       "4             0             0          40            Cuba           <=50K  "
      ]
     },
     "execution_count": 4,
     "metadata": {},
     "output_type": "execute_result"
    }
   ],
   "source": [
    "adult.head()"
   ]
  },
  {
   "cell_type": "code",
   "execution_count": 5,
   "id": "a55c4061-a3d4-4b47-9e9c-907677ff5992",
   "metadata": {},
   "outputs": [
    {
     "name": "stdout",
     "output_type": "stream",
     "text": [
      "count      32561\n",
      "unique         2\n",
      "top        <=50K\n",
      "freq       24720\n",
      "Name: Above/Below 50k, dtype: object\n"
     ]
    }
   ],
   "source": [
    "# Explore the Above/Below 50k variable\n",
    "print(adult['Above/Below 50k'].describe())"
   ]
  },
  {
   "cell_type": "code",
   "execution_count": 6,
   "id": "a1a6b8dc-0698-47e5-a099-f68a66d34c99",
   "metadata": {},
   "outputs": [
    {
     "name": "stdout",
     "output_type": "stream",
     "text": [
      " <=50K    24720\n",
      " >50K      7841\n",
      "Name: Above/Below 50k, dtype: int64\n"
     ]
    }
   ],
   "source": [
    "# Print a frequency table of \"Above/Below 50k\"\n",
    "print(adult['Above/Below 50k'].value_counts())"
   ]
  },
  {
   "cell_type": "code",
   "execution_count": 7,
   "id": "bb1e8b01-7fd0-4fea-97f9-22a722b822e1",
   "metadata": {},
   "outputs": [
    {
     "name": "stdout",
     "output_type": "stream",
     "text": [
      " <=50K    0.75919\n",
      " >50K     0.24081\n",
      "Name: Above/Below 50k, dtype: float64\n"
     ]
    }
   ],
   "source": [
    "print(adult['Above/Below 50k'].value_counts(normalize=True))"
   ]
  },
  {
   "cell_type": "markdown",
   "id": "3259c241-cd63-4ef5-8967-9663331679f8",
   "metadata": {},
   "source": [
    "### Setting dtypes and saving memory"
   ]
  },
  {
   "cell_type": "code",
   "execution_count": 9,
   "id": "3cd051c0-7f9f-45d3-a7bb-fb3dbd663648",
   "metadata": {},
   "outputs": [
    {
     "data": {
      "text/plain": [
       " Prof-specialty       4140\n",
       " Craft-repair         4099\n",
       " Exec-managerial      4066\n",
       " Adm-clerical         3770\n",
       " Sales                3650\n",
       " Other-service        3295\n",
       " Machine-op-inspct    2002\n",
       " ?                    1843\n",
       " Transport-moving     1597\n",
       " Handlers-cleaners    1370\n",
       " Farming-fishing       994\n",
       " Tech-support          928\n",
       " Protective-serv       649\n",
       " Priv-house-serv       149\n",
       " Armed-Forces            9\n",
       "Name: Occupation, dtype: int64"
      ]
     },
     "execution_count": 9,
     "metadata": {},
     "output_type": "execute_result"
    }
   ],
   "source": [
    "adult['Occupation'].value_counts()"
   ]
  },
  {
   "cell_type": "code",
   "execution_count": 10,
   "id": "8fc6d023-09cc-471c-af7f-f439bd77e736",
   "metadata": {},
   "outputs": [],
   "source": [
    "list_of_occupations = adult['Occupation'].values.tolist()"
   ]
  },
  {
   "cell_type": "code",
   "execution_count": 11,
   "id": "5a3d9591-668e-4aae-a0ac-78f7fdcd1b48",
   "metadata": {},
   "outputs": [],
   "source": [
    "series1 = pd.Series(list_of_occupations)"
   ]
  },
  {
   "cell_type": "code",
   "execution_count": 12,
   "id": "c4cc0185-49ab-40f6-8fa4-7c60333144f3",
   "metadata": {},
   "outputs": [
    {
     "name": "stdout",
     "output_type": "stream",
     "text": [
      "series1 data type: object\n",
      "series1 number of bytes: 260488\n"
     ]
    }
   ],
   "source": [
    "# Print out the data type and number of bytes for series1\n",
    "print(\"series1 data type:\", series1.dtype)\n",
    "print(\"series1 number of bytes:\", series1.nbytes)"
   ]
  },
  {
   "cell_type": "code",
   "execution_count": 13,
   "id": "a1c681da-920b-49ae-8528-ac0767b50595",
   "metadata": {},
   "outputs": [],
   "source": [
    "# Create a Series, \"category\" dtype\n",
    "series2 = pd.Series(list_of_occupations, dtype=\"category\")"
   ]
  },
  {
   "cell_type": "code",
   "execution_count": 14,
   "id": "18692286-0386-4b6f-ac90-4a56e4d1d5cb",
   "metadata": {},
   "outputs": [
    {
     "name": "stdout",
     "output_type": "stream",
     "text": [
      "series2 data type: category\n",
      "series2 number of bytes: 32681\n"
     ]
    }
   ],
   "source": [
    "print(\"series2 data type:\", series2.dtype)\n",
    "print(\"series2 number of bytes:\", series2.nbytes)"
   ]
  },
  {
   "cell_type": "markdown",
   "id": "97516758-95ec-41cd-b308-d831aafaecc2",
   "metadata": {},
   "source": [
    "### Creating a categorical pandas Series"
   ]
  },
  {
   "cell_type": "code",
   "execution_count": 40,
   "id": "6eb9a23e-eeb4-4b24-9a95-e461a3090d61",
   "metadata": {},
   "outputs": [],
   "source": [
    "medal_won = pd.read_csv('medals_won.txt').values.tolist()"
   ]
  },
  {
   "cell_type": "code",
   "execution_count": 41,
   "id": "d2007635-effd-4d29-b744-51d03210ecf5",
   "metadata": {},
   "outputs": [
    {
     "name": "stdout",
     "output_type": "stream",
     "text": [
      "['Silver', 'Silver', 'Bronze', 'Silver', 'Gold', ..., 'Gold', 'Bronze', 'Silver', 'Gold', 'Gold']\n",
      "Length: 2828\n",
      "Categories (3, object): ['Bronze' < 'Silver' < 'Gold']\n"
     ]
    }
   ],
   "source": [
    "# Create a categorical Series and specify the categories (let pandas know the order matters!)\n",
    "medals = pd.Categorical(medals_won, categories=['Bronze', 'Silver', 'Gold'], ordered=True)\n",
    "print(medals)"
   ]
  },
  {
   "cell_type": "markdown",
   "id": "102e25bc-65a1-4ffd-abf5-ac45e6ad9897",
   "metadata": {},
   "source": [
    "### Setting dtype when reading data\n"
   ]
  },
  {
   "cell_type": "code",
   "execution_count": 43,
   "id": "392b6745-6976-4fb6-bd5e-036916897804",
   "metadata": {},
   "outputs": [
    {
     "data": {
      "text/html": [
       "<div>\n",
       "<style scoped>\n",
       "    .dataframe tbody tr th:only-of-type {\n",
       "        vertical-align: middle;\n",
       "    }\n",
       "\n",
       "    .dataframe tbody tr th {\n",
       "        vertical-align: top;\n",
       "    }\n",
       "\n",
       "    .dataframe thead th {\n",
       "        text-align: right;\n",
       "    }\n",
       "</style>\n",
       "<table border=\"1\" class=\"dataframe\">\n",
       "  <thead>\n",
       "    <tr style=\"text-align: right;\">\n",
       "      <th></th>\n",
       "      <th>Age</th>\n",
       "      <th>Workclass</th>\n",
       "      <th>fnlgwt</th>\n",
       "      <th>Education</th>\n",
       "      <th>Education Num</th>\n",
       "      <th>Marital Status</th>\n",
       "      <th>Occupation</th>\n",
       "      <th>Relationship</th>\n",
       "      <th>Race</th>\n",
       "      <th>Sex</th>\n",
       "      <th>Capital Gain</th>\n",
       "      <th>Capital Loss</th>\n",
       "      <th>Hours/Week</th>\n",
       "      <th>Country</th>\n",
       "      <th>Above/Below 50k</th>\n",
       "    </tr>\n",
       "  </thead>\n",
       "  <tbody>\n",
       "    <tr>\n",
       "      <th>0</th>\n",
       "      <td>39</td>\n",
       "      <td>State-gov</td>\n",
       "      <td>77516</td>\n",
       "      <td>Bachelors</td>\n",
       "      <td>13</td>\n",
       "      <td>Never-married</td>\n",
       "      <td>Adm-clerical</td>\n",
       "      <td>Not-in-family</td>\n",
       "      <td>White</td>\n",
       "      <td>Male</td>\n",
       "      <td>2174</td>\n",
       "      <td>0</td>\n",
       "      <td>40</td>\n",
       "      <td>United-States</td>\n",
       "      <td>&lt;=50K</td>\n",
       "    </tr>\n",
       "    <tr>\n",
       "      <th>1</th>\n",
       "      <td>50</td>\n",
       "      <td>Self-emp-not-inc</td>\n",
       "      <td>83311</td>\n",
       "      <td>Bachelors</td>\n",
       "      <td>13</td>\n",
       "      <td>Married-civ-spouse</td>\n",
       "      <td>Exec-managerial</td>\n",
       "      <td>Husband</td>\n",
       "      <td>White</td>\n",
       "      <td>Male</td>\n",
       "      <td>0</td>\n",
       "      <td>0</td>\n",
       "      <td>13</td>\n",
       "      <td>United-States</td>\n",
       "      <td>&lt;=50K</td>\n",
       "    </tr>\n",
       "    <tr>\n",
       "      <th>2</th>\n",
       "      <td>38</td>\n",
       "      <td>Private</td>\n",
       "      <td>215646</td>\n",
       "      <td>HS-grad</td>\n",
       "      <td>9</td>\n",
       "      <td>Divorced</td>\n",
       "      <td>Handlers-cleaners</td>\n",
       "      <td>Not-in-family</td>\n",
       "      <td>White</td>\n",
       "      <td>Male</td>\n",
       "      <td>0</td>\n",
       "      <td>0</td>\n",
       "      <td>40</td>\n",
       "      <td>United-States</td>\n",
       "      <td>&lt;=50K</td>\n",
       "    </tr>\n",
       "    <tr>\n",
       "      <th>3</th>\n",
       "      <td>53</td>\n",
       "      <td>Private</td>\n",
       "      <td>234721</td>\n",
       "      <td>11th</td>\n",
       "      <td>7</td>\n",
       "      <td>Married-civ-spouse</td>\n",
       "      <td>Handlers-cleaners</td>\n",
       "      <td>Husband</td>\n",
       "      <td>Black</td>\n",
       "      <td>Male</td>\n",
       "      <td>0</td>\n",
       "      <td>0</td>\n",
       "      <td>40</td>\n",
       "      <td>United-States</td>\n",
       "      <td>&lt;=50K</td>\n",
       "    </tr>\n",
       "    <tr>\n",
       "      <th>4</th>\n",
       "      <td>28</td>\n",
       "      <td>Private</td>\n",
       "      <td>338409</td>\n",
       "      <td>Bachelors</td>\n",
       "      <td>13</td>\n",
       "      <td>Married-civ-spouse</td>\n",
       "      <td>Prof-specialty</td>\n",
       "      <td>Wife</td>\n",
       "      <td>Black</td>\n",
       "      <td>Female</td>\n",
       "      <td>0</td>\n",
       "      <td>0</td>\n",
       "      <td>40</td>\n",
       "      <td>Cuba</td>\n",
       "      <td>&lt;=50K</td>\n",
       "    </tr>\n",
       "  </tbody>\n",
       "</table>\n",
       "</div>"
      ],
      "text/plain": [
       "   Age          Workclass  fnlgwt   Education  Education Num  \\\n",
       "0   39          State-gov   77516   Bachelors             13   \n",
       "1   50   Self-emp-not-inc   83311   Bachelors             13   \n",
       "2   38            Private  215646     HS-grad              9   \n",
       "3   53            Private  234721        11th              7   \n",
       "4   28            Private  338409   Bachelors             13   \n",
       "\n",
       "        Marital Status          Occupation    Relationship    Race      Sex  \\\n",
       "0        Never-married        Adm-clerical   Not-in-family   White     Male   \n",
       "1   Married-civ-spouse     Exec-managerial         Husband   White     Male   \n",
       "2             Divorced   Handlers-cleaners   Not-in-family   White     Male   \n",
       "3   Married-civ-spouse   Handlers-cleaners         Husband   Black     Male   \n",
       "4   Married-civ-spouse      Prof-specialty            Wife   Black   Female   \n",
       "\n",
       "   Capital Gain  Capital Loss  Hours/Week         Country Above/Below 50k  \n",
       "0          2174             0          40   United-States           <=50K  \n",
       "1             0             0          13   United-States           <=50K  \n",
       "2             0             0          40   United-States           <=50K  \n",
       "3             0             0          40   United-States           <=50K  \n",
       "4             0             0          40            Cuba           <=50K  "
      ]
     },
     "execution_count": 43,
     "metadata": {},
     "output_type": "execute_result"
    }
   ],
   "source": [
    "adult.head()"
   ]
  },
  {
   "cell_type": "code",
   "execution_count": 42,
   "id": "96bdb379-8634-4b11-8762-c5be4439a788",
   "metadata": {},
   "outputs": [
    {
     "name": "stdout",
     "output_type": "stream",
     "text": [
      "Age                 int64\n",
      "Workclass          object\n",
      "fnlgwt              int64\n",
      "Education          object\n",
      "Education Num       int64\n",
      "Marital Status     object\n",
      "Occupation         object\n",
      "Relationship       object\n",
      "Race               object\n",
      "Sex                object\n",
      "Capital Gain        int64\n",
      "Capital Loss        int64\n",
      "Hours/Week          int64\n",
      "Country            object\n",
      "Above/Below 50k    object\n",
      "dtype: object\n"
     ]
    }
   ],
   "source": [
    "print(adult.dtypes)"
   ]
  },
  {
   "cell_type": "code",
   "execution_count": 44,
   "id": "f70321b2-fc35-4145-9c1c-975be8ca599c",
   "metadata": {},
   "outputs": [],
   "source": [
    "adult_dtypes = {\n",
    "   \"Workclass\": \"category\",\n",
    "   \"Education\": \"category\",\n",
    "   \"Relationship\": \"category\",\n",
    "   \"Above/Below 50k\": \"category\" \n",
    "}"
   ]
  },
  {
   "cell_type": "code",
   "execution_count": 45,
   "id": "581329e5-5b65-46dd-8da4-dce44899c50a",
   "metadata": {},
   "outputs": [
    {
     "name": "stdout",
     "output_type": "stream",
     "text": [
      "Age                   int64\n",
      "Workclass          category\n",
      "fnlgwt                int64\n",
      "Education          category\n",
      "Education Num         int64\n",
      "Marital Status       object\n",
      "Occupation           object\n",
      "Relationship       category\n",
      "Race                 object\n",
      "Sex                  object\n",
      "Capital Gain          int64\n",
      "Capital Loss          int64\n",
      "Hours/Week            int64\n",
      "Country              object\n",
      "Above/Below 50k    category\n",
      "dtype: object\n"
     ]
    }
   ],
   "source": [
    "adult2 = pd.read_csv(\n",
    "  \"adult.csv\",\n",
    "  dtype=adult_dtypes\n",
    ")\n",
    "print(adult2.dtypes)"
   ]
  },
  {
   "cell_type": "markdown",
   "id": "2ffb4f9f-7299-4777-99d1-f4e5562d5df7",
   "metadata": {},
   "source": [
    "### Setting up a .groupby() statement"
   ]
  },
  {
   "cell_type": "code",
   "execution_count": 46,
   "id": "11b50a93-8398-4b78-b65e-a2e137701804",
   "metadata": {},
   "outputs": [
    {
     "name": "stdout",
     "output_type": "stream",
     "text": [
      "Sex      Above/Below 50k\n",
      " Female   <=50K              9592\n",
      "          >50K               1179\n",
      " Male     <=50K             15128\n",
      "          >50K               6662\n",
      "dtype: int64\n",
      "                               Age         fnlgwt  Education Num  \\\n",
      "Sex     Above/Below 50k                                            \n",
      " Female  <=50K           36.210801  185999.381359       9.820475   \n",
      "         >50K            42.125530  183687.406277      11.787108   \n",
      " Male    <=50K           37.147012  193093.609268       9.452142   \n",
      "         >50K            44.625788  188769.101321      11.580606   \n",
      "\n",
      "                         Capital Gain  Capital Loss  Hours/Week  \n",
      "Sex     Above/Below 50k                                          \n",
      " Female  <=50K             121.986134     47.364470   35.916701  \n",
      "         >50K             4200.389313    173.648855   40.426633  \n",
      " Male    <=50K             165.723823     56.806782   40.693879  \n",
      "         >50K             3971.765836    198.780396   46.366106  \n"
     ]
    }
   ],
   "source": [
    "gb = adult.groupby(by=['Sex', 'Above/Below 50k'])\n",
    "\n",
    "# Print out how many rows are in each created group\n",
    "print(gb.size())\n",
    "\n",
    "# Print out the mean of each group for all columns\n",
    "print(gb.mean())"
   ]
  },
  {
   "cell_type": "markdown",
   "id": "33fa8fe6-2f9e-4498-ad41-58b368da3fe9",
   "metadata": {},
   "source": [
    "### Using pandas functions effectively"
   ]
  },
  {
   "cell_type": "code",
   "execution_count": 47,
   "id": "c8780fed-f96f-4f09-b47a-eb9c247362b7",
   "metadata": {},
   "outputs": [
    {
     "name": "stdout",
     "output_type": "stream",
     "text": [
      "Education      Above/Below 50k\n",
      " 10th           <=50K             36.574053\n",
      "                >50K              43.774194\n",
      " 11th           <=50K             33.322870\n",
      "                >50K              45.133333\n",
      " 12th           <=50K             35.035000\n",
      "                >50K              44.818182\n",
      " 1st-4th        <=50K             37.864198\n",
      "                >50K              48.833333\n",
      " 5th-6th        <=50K             38.539432\n",
      "                >50K              46.000000\n",
      " 7th-8th        <=50K             38.830033\n",
      "                >50K              47.500000\n",
      " 9th            <=50K             37.667351\n",
      "                >50K              44.851852\n",
      " Assoc-acdm     <=50K             39.264339\n",
      "                >50K              44.256604\n",
      " Assoc-voc      <=50K             40.817826\n",
      "                >50K              43.853186\n",
      " Bachelors      <=50K             40.586152\n",
      "                >50K              45.475462\n",
      " Doctorate      <=50K             45.429907\n",
      "                >50K              47.513072\n",
      " HS-grad        <=50K             39.727510\n",
      "                >50K              45.042985\n",
      " Masters        <=50K             41.223822\n",
      "                >50K              45.917623\n",
      " Preschool      <=50K             36.647059\n",
      " Prof-school    <=50K             42.816993\n",
      "                >50K              49.092199\n",
      " Some-college   <=50K             37.450203\n",
      "                >50K              44.820476\n",
      "Name: Hours/Week, dtype: float64\n"
     ]
    }
   ],
   "source": [
    "# Create a list of user-selected variables\n",
    "user_list = ['Education', 'Above/Below 50k']\n",
    "\n",
    "# Create a GroupBy object using this list\n",
    "gb = adult.groupby(by=user_list)\n",
    "\n",
    "# Find the mean for the variable \"Hours/Week\" for each group - Be efficient!\n",
    "print(gb['Hours/Week'].mean())"
   ]
  },
  {
   "cell_type": "code",
   "execution_count": null,
   "id": "a350b383-002b-470f-9419-ca1e17480c3c",
   "metadata": {},
   "outputs": [],
   "source": []
  }
 ],
 "metadata": {
  "kernelspec": {
   "display_name": "Python 3",
   "language": "python",
   "name": "python3"
  },
  "language_info": {
   "codemirror_mode": {
    "name": "ipython",
    "version": 3
   },
   "file_extension": ".py",
   "mimetype": "text/x-python",
   "name": "python",
   "nbconvert_exporter": "python",
   "pygments_lexer": "ipython3",
   "version": "3.7.2"
  }
 },
 "nbformat": 4,
 "nbformat_minor": 5
}
